{
 "cells": [
  {
   "cell_type": "code",
   "execution_count": 80,
   "metadata": {},
   "outputs": [],
   "source": [
    "from bs4 import BeautifulSoup as bs\n",
    "from datetime import datetime as dt, timedelta\n",
    "import requests\n",
    "import re"
   ]
  },
  {
   "cell_type": "code",
   "execution_count": 125,
   "metadata": {},
   "outputs": [],
   "source": [
    "current_date = dt.now().date()\n",
    "current_time = dt.now().time().hour\n",
    "days_to_capture = 2\n",
    "year = current_date.year\n",
    "\n",
    "url = 'https://www.bbc.co.uk/weather/2643743'\n",
    "head = {\n",
    "    'Accept': '*/*',\n",
    "    'Accept-Encoding': 'gzip, deflate, br, zstd',\n",
    "    'Accept-Language': 'en-GB,en;q=0.5',\n",
    "    'Connection': 'keep-alive',\n",
    "    'User-Agent': 'Mozilla/5.0 (Windows NT 10.0; Win64; x64; rv:128.0) Gecko/20100101 Firefox/128.0'\n",
    "}\n",
    "\n",
    "forecast_class = 'wr-time-slot__inner'\n",
    "hours_class = 'wr-time-slot-primary__hours'\n",
    "description_class = 'wr-time-slot-primary__weather-type-description'\n",
    "temperature_class = 'wr-value--temperature--c'\n",
    "precipitation_class = 'wr-time-slot-primary__precipitation'\n",
    "rain_text_class = 'wr-u-font-weight-500'"
   ]
  },
  {
   "cell_type": "code",
   "execution_count": 129,
   "metadata": {},
   "outputs": [
    {
     "data": {
      "text/plain": [
       "[[datetime.date(2024, 8, 9), 1, 0, 12, 'Sunny Intervals', 22, 0],\n",
       " [datetime.date(2024, 8, 9), 1, 0, 13, 'Sunny Intervals', 23, 0],\n",
       " [datetime.date(2024, 8, 9), 1, 0, 15, 'Sunny Intervals', 24, 0],\n",
       " [datetime.date(2024, 8, 9), 1, 0, 18, 'Sunny', 24, 0],\n",
       " [datetime.date(2024, 8, 9), 1, 0, 0, 'Clear Sky', 18, 0],\n",
       " [datetime.date(2024, 8, 10), 1, 1, 12, 'Light Cloud', 22, 0]]"
      ]
     },
     "execution_count": 129,
     "metadata": {},
     "output_type": "execute_result"
    }
   ],
   "source": [
    "weather_data = []\n",
    "\n",
    "for i in range(days_to_capture):\n",
    "    date = current_date + timedelta(days=i)\n",
    "    response = requests.get(url + '/day' + str(i), headers=head)\n",
    "    \n",
    "    if i == 0:\n",
    "        hours = ['12', '13', '15', '18', '00']\n",
    "    else:\n",
    "        hours = ['12']\n",
    "\n",
    "    if response.status_code == 200:\n",
    "        soup = bs(response.text, 'html.parser')\n",
    "        forecast = soup.select(f'button[class^=\"{forecast_class}\"]')\n",
    "\n",
    "        if forecast:\n",
    "            #weather_data.append(return_forecast(forecast, date, hours))\n",
    "            for item in forecast:\n",
    "                hour = item.find('span', class_=f'{hours_class}')\n",
    "\n",
    "                if hour.text in hours:\n",
    "                    type = item.find('div', class_=f'{description_class}')\n",
    "                    temp = item.find('span', class_=f'{temperature_class}')\n",
    "                    \n",
    "                    if temp:\n",
    "                        temp = re.search(r'\\d+', temp.text)\n",
    "                        if temp:\n",
    "                            temp = temp.group()\n",
    "\n",
    "                    rain = item.find('div', class_=f'{precipitation_class}')\n",
    "                    if rain:\n",
    "                        chance = rain.find('div', class_=f'{rain_text_class}')\n",
    "                        if chance:\n",
    "                            chance = re.search(r'\\d+', chance.text)\n",
    "                            if chance:\n",
    "                                chance = chance.group()\n",
    "\n",
    "                    weather_data.append([date, 1, i, int(hour.text), type.text, int(temp), int(chance)])\n",
    "\n",
    "weather_data"
   ]
  }
 ],
 "metadata": {
  "kernelspec": {
   "display_name": "Python 3",
   "language": "python",
   "name": "python3"
  },
  "language_info": {
   "codemirror_mode": {
    "name": "ipython",
    "version": 3
   },
   "file_extension": ".py",
   "mimetype": "text/x-python",
   "name": "python",
   "nbconvert_exporter": "python",
   "pygments_lexer": "ipython3",
   "version": "3.12.1"
  }
 },
 "nbformat": 4,
 "nbformat_minor": 2
}
